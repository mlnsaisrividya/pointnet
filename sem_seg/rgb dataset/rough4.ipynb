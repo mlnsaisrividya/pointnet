{
 "cells": [
  {
   "cell_type": "code",
   "execution_count": 1,
   "id": "0699544f",
   "metadata": {},
   "outputs": [
    {
     "name": "stdout",
     "output_type": "stream",
     "text": [
      "Jupyter environment detected. Enabling Open3D WebVisualizer.\n",
      "[Open3D INFO] WebRTC GUI backend enabled.\n",
      "[Open3D INFO] WebRTCWindowSystem: HTTP handshake server disabled.\n"
     ]
    }
   ],
   "source": [
    "import open3d\n",
    "import numpy"
   ]
  },
  {
   "cell_type": "code",
   "execution_count": 2,
   "id": "68d97a00",
   "metadata": {},
   "outputs": [],
   "source": [
    "pcd05 = open3d.io.read_point_cloud('C:\\\\Users\\\\Srividya\\\\Downloads\\\\50p.ply')\n",
    "#'C:\\\\Users\\\\Srividya\\\\Downloads"
   ]
  },
  {
   "cell_type": "code",
   "execution_count": 3,
   "id": "6cc8784c",
   "metadata": {},
   "outputs": [],
   "source": [
    "open3d.visualization.draw_geometries([pcd05])"
   ]
  },
  {
   "cell_type": "code",
   "execution_count": 9,
   "id": "6f8815ce",
   "metadata": {},
   "outputs": [
    {
     "name": "stdout",
     "output_type": "stream",
     "text": [
      "[Open3D WARNING] Read PLY failed: unable to open file: C:\\Users\\Srividya\\AppData\\Local\\Temp\\pred3N1.ply\n"
     ]
    }
   ],
   "source": [
    "import open3d\n",
    "pcd05 = open3d.io.read_point_cloud('C:\\\\Users\\\\Srividya\\\\AppData\\\\Local\\\\Temp\\\\pred3N1.ply')\n",
    "open3d.visualization.draw_geometries([pcd05])"
   ]
  },
  {
   "cell_type": "code",
   "execution_count": 8,
   "id": "1d896ac5",
   "metadata": {},
   "outputs": [
    {
     "data": {
      "text/plain": [
       "(0, 3)"
      ]
     },
     "execution_count": 8,
     "metadata": {},
     "output_type": "execute_result"
    }
   ],
   "source": [
    "numpy.asarray(pcd05.points).shape"
   ]
  },
  {
   "cell_type": "code",
   "execution_count": null,
   "id": "90fbd2e7",
   "metadata": {},
   "outputs": [],
   "source": [
    "pred3N2.ply   ---- 4096 points. just added one more layer 4096 cnn----80%accuracy (better) 2-3 objects recognised\n",
    "pred3N3.ply   ---- 4096 points. added two layers: 2018,4096 cnn ------78%accuracy\n",
    "      N4              4096             4096,8192   OOM\n",
    "        N4                             8192        OOM\n",
    "pred5N7_mod5n2.ply ---82 putting small objs twice         0.5 points  , 1 4096 layer\n",
    "pred5N8_mod5n2.ply --- 81taking out the last small objs   0.5     , 1 4096 layer\n",
    "pred5N10_mod5n2.ply--- without adding small objs twice to training network 0.5  ,1 4096 layer\n",
    "pred5N11_mod5n2.ply--- 71.07(worst of all: not even teapoy is recognised fully)in only training , small objs shhall be added one more time. in testing, scene will be sent as it is   "
   ]
  },
  {
   "cell_type": "code",
   "execution_count": null,
   "id": "d1df72a1",
   "metadata": {},
   "outputs": [],
   "source": []
  }
 ],
 "metadata": {
  "kernelspec": {
   "display_name": "Python 3",
   "language": "python",
   "name": "python3"
  },
  "language_info": {
   "codemirror_mode": {
    "name": "ipython",
    "version": 3
   },
   "file_extension": ".py",
   "mimetype": "text/x-python",
   "name": "python",
   "nbconvert_exporter": "python",
   "pygments_lexer": "ipython3",
   "version": "3.8.10"
  }
 },
 "nbformat": 4,
 "nbformat_minor": 5
}
