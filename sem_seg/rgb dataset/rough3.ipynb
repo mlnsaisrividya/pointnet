{
 "cells": [
  {
   "cell_type": "code",
   "execution_count": 1,
   "id": "542f9fb9",
   "metadata": {},
   "outputs": [
    {
     "name": "stdout",
     "output_type": "stream",
     "text": [
      "Jupyter environment detected. Enabling Open3D WebVisualizer.\n",
      "[Open3D INFO] WebRTC GUI backend enabled.\n",
      "[Open3D INFO] WebRTCWindowSystem: HTTP handshake server disabled.\n"
     ]
    }
   ],
   "source": [
    "import tensorflow as tf\n",
    "from tensorflow import keras\n",
    "import open3d\n",
    "import numpy as np"
   ]
  },
  {
   "cell_type": "code",
   "execution_count": 16,
   "id": "d7f6ea10",
   "metadata": {},
   "outputs": [],
   "source": [
    "re_model = keras.models.load_model(\"C:\\\\Users\\\\Srividya\\\\Downloads\\\\my_h5_model1n3.h5\")"
   ]
  },
  {
   "cell_type": "code",
   "execution_count": 17,
   "id": "3ea1ed62",
   "metadata": {},
   "outputs": [
    {
     "name": "stdout",
     "output_type": "stream",
     "text": [
      "(1249801, 3)\n",
      "(1249801,)\n"
     ]
    }
   ],
   "source": [
    "pcd09 = open3d.io.read_point_cloud('C:\\\\Users\\\\Srividya\\\\Downloads\\\\rgbd-scenes-v2_pc\\\\rgbd-scenes-v2\\\\pc\\\\03.ply')\n",
    "X_test = np.asarray(pcd09.points)\n",
    "print(X_test.shape)\n",
    "bst = open(\"C:\\\\Users\\\\Srividya\\\\Downloads\\\\rgbd-scenes-v2_pc\\\\rgbd-scenes-v2\\\\pc\\\\03.label\", \"r\").readlines()\n",
    "listasInt = list(map(int, bst))\n",
    "Y_test = np.array(listasInt)\n",
    "Y_test = Y_test[1:]\n",
    "print(Y_test.shape)"
   ]
  },
  {
   "cell_type": "code",
   "execution_count": 4,
   "id": "f26c9bd7",
   "metadata": {},
   "outputs": [],
   "source": [
    "def samp(points,a):\n",
    "  l, c =  np.unique(a , return_inverse= False ,return_counts = True) \n",
    "  prob_arr = np.zeros((a.shape[0]))\n",
    "  ind = np.argsort(c)\n",
    "  ls = l[ind]\n",
    "  cs = c[ind]\n",
    "  for i in range(a.shape[0]):\n",
    "    j = np.where(ls == a[i])\n",
    "  # csh = cs.shape[0]\n",
    "    prob_arr[i] = cs[cs.shape[0]-j[0]-1]/((cs[j])*a.shape[0])\n",
    "\n",
    "  arr_indices= np.arange(a.shape[0])\n",
    "  arr_indices = np.random.choice(arr_indices, size=int(0.2*a.shape[0]), replace=False, p=prob_arr)\n",
    "  rand_samp_points = points[arr_indices]\n",
    "  rand_samp_labels = a[arr_indices]\n",
    "  return rand_samp_points, rand_samp_labels\n",
    "\n",
    "\n",
    "#rX_test,rY_test = samp( X_test, Y_test)\n",
    "#rpoints,rlabels = samp(points,labels)\n"
   ]
  },
  {
   "cell_type": "markdown",
   "id": "5a91d5e1",
   "metadata": {},
   "source": [
    "# _____________________________________________________________________________________________________________________"
   ]
  },
  {
   "cell_type": "code",
   "execution_count": 2,
   "id": "fd3aadd6",
   "metadata": {},
   "outputs": [],
   "source": [
    "pcd01 = open3d.io.read_point_cloud('C:\\\\Users\\\\Srividya\\\\Downloads\\\\rgbd-scenes-v2_pc\\\\rgbd-scenes-v2\\\\pc\\\\01.ply')\n",
    "points = np.asarray(pcd01.points)\n",
    "bst01 = open(\"C:\\\\Users\\\\Srividya\\\\Downloads\\\\rgbd-scenes-v2_pc\\\\rgbd-scenes-v2\\\\pc\\\\01.label\", \"r\").readlines()\n",
    "listasInt01 = list(map(int, bst01))\n",
    "labels01 = np.array(listasInt01)\n",
    "labels = labels01[1:]"
   ]
  },
  {
   "cell_type": "code",
   "execution_count": 5,
   "id": "5878d437",
   "metadata": {},
   "outputs": [],
   "source": [
    "rpoints,rlabels = samp(points,labels)\n",
    "ocd = open3d.geometry.PointCloud()\n",
    "ocd.points = open3d.utility.Vector3dVector(rpoints)\n",
    "#ocd.colors = open3d.utility.Vector3dVector(colors)\n",
    "open3d.visualization.draw_geometries([ocd])"
   ]
  },
  {
   "cell_type": "code",
   "execution_count": 5,
   "id": "f8d2b3a1",
   "metadata": {},
   "outputs": [],
   "source": [
    "#visualisation\n",
    "pcd01 = open3d.io.read_point_cloud('C:\\\\Users\\\\Srividya\\\\Downloads\\\\rgbd-scenes-v2_pc\\\\rgbd-scenes-v2\\\\pc\\\\01.ply')\n",
    "points = np.asarray(pcd01.points)\n",
    "ocd = open3d.geometry.PointCloud()\n",
    "ocd.points = open3d.utility.Vector3dVector(points)\n",
    "open3d.visualization.draw_geometries([ocd])"
   ]
  },
  {
   "cell_type": "markdown",
   "id": "fe46e7d6",
   "metadata": {},
   "source": [
    "# ---------------------------------------------------------------------------------------------------------------"
   ]
  },
  {
   "cell_type": "code",
   "execution_count": 13,
   "id": "92b639b5",
   "metadata": {},
   "outputs": [],
   "source": [
    "def room1samples(data, label, sample_num_point):\n",
    "    \"\"\" Prepare whole room samples.\n",
    "\n",
    "    Args:\n",
    "        data: N x 6 numpy array, 012 are XYZ in meters, 345 are RGB in [0,1]\n",
    "            assumes the data is shifted (min point is origin) and\n",
    "            aligned (aligned with XYZ axis)\n",
    "        label: N size uint8 numpy array from 0-12\n",
    "        sample_num_point: int, how many points to sample in each sample\n",
    "    Returns:\n",
    "        sample_datas: K x sample_num_point x 9\n",
    "                     numpy array of XYZRGBX'Y'Z', RGB is in [0,1]\n",
    "        sample_labels: K x sample_num_point x 1 np array of uint8 labels\n",
    "    \"\"\"\n",
    "    N = data.shape[0]  \n",
    "    order = np.arange(N)\n",
    "    np.random.shuffle(order) \n",
    "    data = data[order, :]\n",
    "    label = label[order]\n",
    "\n",
    "    batch_num = int(np.ceil(N / float(sample_num_point)))\n",
    "    sample_datas = np.zeros((batch_num, sample_num_point, 3))\n",
    "    sample_labels = np.zeros((batch_num, sample_num_point, 1))\n",
    "\n",
    "    for i in range(batch_num):\n",
    "        beg_idx = i*sample_num_point\n",
    "        end_idx = min((i+1)*sample_num_point, N)\n",
    "        num = end_idx - beg_idx\n",
    "        sample_datas[i,0:num,:] = data[beg_idx:end_idx, :]\n",
    "        sample_labels[i,0:num,0] = label[beg_idx:end_idx]\n",
    "        if num < sample_num_point:\n",
    "            makeup_indices = np.random.choice(N, sample_num_point - num)\n",
    "            sample_datas[i,num:,:] = data[makeup_indices, :]\n",
    "            sample_labels[i,num:,0] = label[makeup_indices]\n",
    "    return sample_datas, sample_labels\n"
   ]
  },
  {
   "cell_type": "code",
   "execution_count": 14,
   "id": "ef63e184",
   "metadata": {},
   "outputs": [
    {
     "name": "stdout",
     "output_type": "stream",
     "text": [
      "21\n",
      "(21, 30000, 3)\n",
      "(21, 30000, 1)\n"
     ]
    }
   ],
   "source": [
    "X_tests, Y_tests = room1samples(rX_test, rY_test, sample_num_point = 30000)\n",
    "a = X_tests.shape[0]\n",
    "print(a)\n",
    "print(X_tests.shape)\n",
    "print(Y_tests.shape)"
   ]
  },
  {
   "cell_type": "code",
   "execution_count": 15,
   "id": "af66adf6",
   "metadata": {},
   "outputs": [
    {
     "name": "stdout",
     "output_type": "stream",
     "text": [
      "WARNING:tensorflow:Model was constructed with shape (None, 20000, 3, 1) for input Tensor(\"input_6:0\", shape=(None, 20000, 3, 1), dtype=float32), but it was called on an input with incompatible shape (None, 30000, 3, 1).\n"
     ]
    },
    {
     "ename": "ValueError",
     "evalue": "in user code:\n\n    C:\\Users\\Srividya\\anaconda3\\envs\\tf-gpu\\lib\\site-packages\\tensorflow\\python\\keras\\engine\\training.py:1462 predict_function  *\n        return step_function(self, iterator)\n    C:\\Users\\Srividya\\anaconda3\\envs\\tf-gpu\\lib\\site-packages\\tensorflow\\python\\keras\\engine\\training.py:1452 step_function  **\n        outputs = model.distribute_strategy.run(run_step, args=(data,))\n    C:\\Users\\Srividya\\anaconda3\\envs\\tf-gpu\\lib\\site-packages\\tensorflow\\python\\distribute\\distribute_lib.py:1211 run\n        return self._extended.call_for_each_replica(fn, args=args, kwargs=kwargs)\n    C:\\Users\\Srividya\\anaconda3\\envs\\tf-gpu\\lib\\site-packages\\tensorflow\\python\\distribute\\distribute_lib.py:2585 call_for_each_replica\n        return self._call_for_each_replica(fn, args, kwargs)\n    C:\\Users\\Srividya\\anaconda3\\envs\\tf-gpu\\lib\\site-packages\\tensorflow\\python\\distribute\\distribute_lib.py:2945 _call_for_each_replica\n        return fn(*args, **kwargs)\n    C:\\Users\\Srividya\\anaconda3\\envs\\tf-gpu\\lib\\site-packages\\tensorflow\\python\\keras\\engine\\training.py:1445 run_step  **\n        outputs = model.predict_step(data)\n    C:\\Users\\Srividya\\anaconda3\\envs\\tf-gpu\\lib\\site-packages\\tensorflow\\python\\keras\\engine\\training.py:1418 predict_step\n        return self(x, training=False)\n    C:\\Users\\Srividya\\anaconda3\\envs\\tf-gpu\\lib\\site-packages\\tensorflow\\python\\keras\\engine\\base_layer.py:985 __call__\n        outputs = call_fn(inputs, *args, **kwargs)\n    C:\\Users\\Srividya\\anaconda3\\envs\\tf-gpu\\lib\\site-packages\\tensorflow\\python\\keras\\engine\\functional.py:385 call\n        return self._run_internal_graph(\n    C:\\Users\\Srividya\\anaconda3\\envs\\tf-gpu\\lib\\site-packages\\tensorflow\\python\\keras\\engine\\functional.py:508 _run_internal_graph\n        outputs = node.layer(*args, **kwargs)\n    C:\\Users\\Srividya\\anaconda3\\envs\\tf-gpu\\lib\\site-packages\\tensorflow\\python\\keras\\engine\\base_layer.py:975 __call__\n        input_spec.assert_input_compatibility(self.input_spec, inputs,\n    C:\\Users\\Srividya\\anaconda3\\envs\\tf-gpu\\lib\\site-packages\\tensorflow\\python\\keras\\engine\\input_spec.py:212 assert_input_compatibility\n        raise ValueError(\n\n    ValueError: Input 0 of layer fc1 is incompatible with the layer: expected axis -1 of input shape to have value 1024 but received input with shape [None, 5121024]\n",
     "output_type": "error",
     "traceback": [
      "\u001b[1;31m---------------------------------------------------------------------------\u001b[0m",
      "\u001b[1;31mValueError\u001b[0m                                Traceback (most recent call last)",
      "\u001b[1;32m<ipython-input-15-f92a2c4711fc>\u001b[0m in \u001b[0;36m<module>\u001b[1;34m\u001b[0m\n\u001b[1;32m----> 1\u001b[1;33m \u001b[0mps\u001b[0m \u001b[1;33m=\u001b[0m \u001b[0mre_model\u001b[0m\u001b[1;33m.\u001b[0m\u001b[0mpredict\u001b[0m\u001b[1;33m(\u001b[0m\u001b[0mX_tests\u001b[0m\u001b[1;33m)\u001b[0m  \u001b[1;31m#pred = keras.utils.np_utils.probas_to_classes(model.predict(X_test))\u001b[0m\u001b[1;33m\u001b[0m\u001b[1;33m\u001b[0m\u001b[0m\n\u001b[0m\u001b[0;32m      2\u001b[0m \u001b[0mpred\u001b[0m \u001b[1;33m=\u001b[0m \u001b[0mnp\u001b[0m\u001b[1;33m.\u001b[0m\u001b[0margmax\u001b[0m\u001b[1;33m(\u001b[0m\u001b[0mps\u001b[0m\u001b[1;33m,\u001b[0m\u001b[0maxis\u001b[0m\u001b[1;33m=\u001b[0m\u001b[1;36m2\u001b[0m\u001b[1;33m)\u001b[0m\u001b[1;33m\u001b[0m\u001b[1;33m\u001b[0m\u001b[0m\n\u001b[0;32m      3\u001b[0m \u001b[1;31m#print(\"actual=%s, Predicted=%s\" % (Y_tests[100,:25], pred[100,:25]))\u001b[0m\u001b[1;33m\u001b[0m\u001b[1;33m\u001b[0m\u001b[1;33m\u001b[0m\u001b[0m\n",
      "\u001b[1;32m~\\anaconda3\\envs\\tf-gpu\\lib\\site-packages\\tensorflow\\python\\keras\\engine\\training.py\u001b[0m in \u001b[0;36m_method_wrapper\u001b[1;34m(self, *args, **kwargs)\u001b[0m\n\u001b[0;32m    128\u001b[0m       raise ValueError('{} is not supported in multi-worker mode.'.format(\n\u001b[0;32m    129\u001b[0m           method.__name__))\n\u001b[1;32m--> 130\u001b[1;33m     \u001b[1;32mreturn\u001b[0m \u001b[0mmethod\u001b[0m\u001b[1;33m(\u001b[0m\u001b[0mself\u001b[0m\u001b[1;33m,\u001b[0m \u001b[1;33m*\u001b[0m\u001b[0margs\u001b[0m\u001b[1;33m,\u001b[0m \u001b[1;33m**\u001b[0m\u001b[0mkwargs\u001b[0m\u001b[1;33m)\u001b[0m\u001b[1;33m\u001b[0m\u001b[1;33m\u001b[0m\u001b[0m\n\u001b[0m\u001b[0;32m    131\u001b[0m \u001b[1;33m\u001b[0m\u001b[0m\n\u001b[0;32m    132\u001b[0m   return tf_decorator.make_decorator(\n",
      "\u001b[1;32m~\\anaconda3\\envs\\tf-gpu\\lib\\site-packages\\tensorflow\\python\\keras\\engine\\training.py\u001b[0m in \u001b[0;36mpredict\u001b[1;34m(self, x, batch_size, verbose, steps, callbacks, max_queue_size, workers, use_multiprocessing)\u001b[0m\n\u001b[0;32m   1597\u001b[0m           \u001b[1;32mfor\u001b[0m \u001b[0mstep\u001b[0m \u001b[1;32min\u001b[0m \u001b[0mdata_handler\u001b[0m\u001b[1;33m.\u001b[0m\u001b[0msteps\u001b[0m\u001b[1;33m(\u001b[0m\u001b[1;33m)\u001b[0m\u001b[1;33m:\u001b[0m\u001b[1;33m\u001b[0m\u001b[1;33m\u001b[0m\u001b[0m\n\u001b[0;32m   1598\u001b[0m             \u001b[0mcallbacks\u001b[0m\u001b[1;33m.\u001b[0m\u001b[0mon_predict_batch_begin\u001b[0m\u001b[1;33m(\u001b[0m\u001b[0mstep\u001b[0m\u001b[1;33m)\u001b[0m\u001b[1;33m\u001b[0m\u001b[1;33m\u001b[0m\u001b[0m\n\u001b[1;32m-> 1599\u001b[1;33m             \u001b[0mtmp_batch_outputs\u001b[0m \u001b[1;33m=\u001b[0m \u001b[0mpredict_function\u001b[0m\u001b[1;33m(\u001b[0m\u001b[0miterator\u001b[0m\u001b[1;33m)\u001b[0m\u001b[1;33m\u001b[0m\u001b[1;33m\u001b[0m\u001b[0m\n\u001b[0m\u001b[0;32m   1600\u001b[0m             \u001b[1;32mif\u001b[0m \u001b[0mdata_handler\u001b[0m\u001b[1;33m.\u001b[0m\u001b[0mshould_sync\u001b[0m\u001b[1;33m:\u001b[0m\u001b[1;33m\u001b[0m\u001b[1;33m\u001b[0m\u001b[0m\n\u001b[0;32m   1601\u001b[0m               \u001b[0mcontext\u001b[0m\u001b[1;33m.\u001b[0m\u001b[0masync_wait\u001b[0m\u001b[1;33m(\u001b[0m\u001b[1;33m)\u001b[0m\u001b[1;33m\u001b[0m\u001b[1;33m\u001b[0m\u001b[0m\n",
      "\u001b[1;32m~\\anaconda3\\envs\\tf-gpu\\lib\\site-packages\\tensorflow\\python\\eager\\def_function.py\u001b[0m in \u001b[0;36m__call__\u001b[1;34m(self, *args, **kwds)\u001b[0m\n\u001b[0;32m    778\u001b[0m       \u001b[1;32melse\u001b[0m\u001b[1;33m:\u001b[0m\u001b[1;33m\u001b[0m\u001b[1;33m\u001b[0m\u001b[0m\n\u001b[0;32m    779\u001b[0m         \u001b[0mcompiler\u001b[0m \u001b[1;33m=\u001b[0m \u001b[1;34m\"nonXla\"\u001b[0m\u001b[1;33m\u001b[0m\u001b[1;33m\u001b[0m\u001b[0m\n\u001b[1;32m--> 780\u001b[1;33m         \u001b[0mresult\u001b[0m \u001b[1;33m=\u001b[0m \u001b[0mself\u001b[0m\u001b[1;33m.\u001b[0m\u001b[0m_call\u001b[0m\u001b[1;33m(\u001b[0m\u001b[1;33m*\u001b[0m\u001b[0margs\u001b[0m\u001b[1;33m,\u001b[0m \u001b[1;33m**\u001b[0m\u001b[0mkwds\u001b[0m\u001b[1;33m)\u001b[0m\u001b[1;33m\u001b[0m\u001b[1;33m\u001b[0m\u001b[0m\n\u001b[0m\u001b[0;32m    781\u001b[0m \u001b[1;33m\u001b[0m\u001b[0m\n\u001b[0;32m    782\u001b[0m       \u001b[0mnew_tracing_count\u001b[0m \u001b[1;33m=\u001b[0m \u001b[0mself\u001b[0m\u001b[1;33m.\u001b[0m\u001b[0m_get_tracing_count\u001b[0m\u001b[1;33m(\u001b[0m\u001b[1;33m)\u001b[0m\u001b[1;33m\u001b[0m\u001b[1;33m\u001b[0m\u001b[0m\n",
      "\u001b[1;32m~\\anaconda3\\envs\\tf-gpu\\lib\\site-packages\\tensorflow\\python\\eager\\def_function.py\u001b[0m in \u001b[0;36m_call\u001b[1;34m(self, *args, **kwds)\u001b[0m\n\u001b[0;32m    812\u001b[0m       \u001b[1;31m# In this case we have not created variables on the first call. So we can\u001b[0m\u001b[1;33m\u001b[0m\u001b[1;33m\u001b[0m\u001b[1;33m\u001b[0m\u001b[0m\n\u001b[0;32m    813\u001b[0m       \u001b[1;31m# run the first trace but we should fail if variables are created.\u001b[0m\u001b[1;33m\u001b[0m\u001b[1;33m\u001b[0m\u001b[1;33m\u001b[0m\u001b[0m\n\u001b[1;32m--> 814\u001b[1;33m       \u001b[0mresults\u001b[0m \u001b[1;33m=\u001b[0m \u001b[0mself\u001b[0m\u001b[1;33m.\u001b[0m\u001b[0m_stateful_fn\u001b[0m\u001b[1;33m(\u001b[0m\u001b[1;33m*\u001b[0m\u001b[0margs\u001b[0m\u001b[1;33m,\u001b[0m \u001b[1;33m**\u001b[0m\u001b[0mkwds\u001b[0m\u001b[1;33m)\u001b[0m\u001b[1;33m\u001b[0m\u001b[1;33m\u001b[0m\u001b[0m\n\u001b[0m\u001b[0;32m    815\u001b[0m       \u001b[1;32mif\u001b[0m \u001b[0mself\u001b[0m\u001b[1;33m.\u001b[0m\u001b[0m_created_variables\u001b[0m\u001b[1;33m:\u001b[0m\u001b[1;33m\u001b[0m\u001b[1;33m\u001b[0m\u001b[0m\n\u001b[0;32m    816\u001b[0m         raise ValueError(\"Creating variables on a non-first call to a function\"\n",
      "\u001b[1;32m~\\anaconda3\\envs\\tf-gpu\\lib\\site-packages\\tensorflow\\python\\eager\\function.py\u001b[0m in \u001b[0;36m__call__\u001b[1;34m(self, *args, **kwargs)\u001b[0m\n\u001b[0;32m   2826\u001b[0m     \u001b[1;34m\"\"\"Calls a graph function specialized to the inputs.\"\"\"\u001b[0m\u001b[1;33m\u001b[0m\u001b[1;33m\u001b[0m\u001b[0m\n\u001b[0;32m   2827\u001b[0m     \u001b[1;32mwith\u001b[0m \u001b[0mself\u001b[0m\u001b[1;33m.\u001b[0m\u001b[0m_lock\u001b[0m\u001b[1;33m:\u001b[0m\u001b[1;33m\u001b[0m\u001b[1;33m\u001b[0m\u001b[0m\n\u001b[1;32m-> 2828\u001b[1;33m       \u001b[0mgraph_function\u001b[0m\u001b[1;33m,\u001b[0m \u001b[0margs\u001b[0m\u001b[1;33m,\u001b[0m \u001b[0mkwargs\u001b[0m \u001b[1;33m=\u001b[0m \u001b[0mself\u001b[0m\u001b[1;33m.\u001b[0m\u001b[0m_maybe_define_function\u001b[0m\u001b[1;33m(\u001b[0m\u001b[0margs\u001b[0m\u001b[1;33m,\u001b[0m \u001b[0mkwargs\u001b[0m\u001b[1;33m)\u001b[0m\u001b[1;33m\u001b[0m\u001b[1;33m\u001b[0m\u001b[0m\n\u001b[0m\u001b[0;32m   2829\u001b[0m     \u001b[1;32mreturn\u001b[0m \u001b[0mgraph_function\u001b[0m\u001b[1;33m.\u001b[0m\u001b[0m_filtered_call\u001b[0m\u001b[1;33m(\u001b[0m\u001b[0margs\u001b[0m\u001b[1;33m,\u001b[0m \u001b[0mkwargs\u001b[0m\u001b[1;33m)\u001b[0m  \u001b[1;31m# pylint: disable=protected-access\u001b[0m\u001b[1;33m\u001b[0m\u001b[1;33m\u001b[0m\u001b[0m\n\u001b[0;32m   2830\u001b[0m \u001b[1;33m\u001b[0m\u001b[0m\n",
      "\u001b[1;32m~\\anaconda3\\envs\\tf-gpu\\lib\\site-packages\\tensorflow\\python\\eager\\function.py\u001b[0m in \u001b[0;36m_maybe_define_function\u001b[1;34m(self, args, kwargs)\u001b[0m\n\u001b[0;32m   3208\u001b[0m           \u001b[1;32mand\u001b[0m \u001b[0mself\u001b[0m\u001b[1;33m.\u001b[0m\u001b[0minput_signature\u001b[0m \u001b[1;32mis\u001b[0m \u001b[1;32mNone\u001b[0m\u001b[1;33m\u001b[0m\u001b[1;33m\u001b[0m\u001b[0m\n\u001b[0;32m   3209\u001b[0m           and call_context_key in self._function_cache.missed):\n\u001b[1;32m-> 3210\u001b[1;33m         \u001b[1;32mreturn\u001b[0m \u001b[0mself\u001b[0m\u001b[1;33m.\u001b[0m\u001b[0m_define_function_with_shape_relaxation\u001b[0m\u001b[1;33m(\u001b[0m\u001b[0margs\u001b[0m\u001b[1;33m,\u001b[0m \u001b[0mkwargs\u001b[0m\u001b[1;33m)\u001b[0m\u001b[1;33m\u001b[0m\u001b[1;33m\u001b[0m\u001b[0m\n\u001b[0m\u001b[0;32m   3211\u001b[0m \u001b[1;33m\u001b[0m\u001b[0m\n\u001b[0;32m   3212\u001b[0m       \u001b[0mself\u001b[0m\u001b[1;33m.\u001b[0m\u001b[0m_function_cache\u001b[0m\u001b[1;33m.\u001b[0m\u001b[0mmissed\u001b[0m\u001b[1;33m.\u001b[0m\u001b[0madd\u001b[0m\u001b[1;33m(\u001b[0m\u001b[0mcall_context_key\u001b[0m\u001b[1;33m)\u001b[0m\u001b[1;33m\u001b[0m\u001b[1;33m\u001b[0m\u001b[0m\n",
      "\u001b[1;32m~\\anaconda3\\envs\\tf-gpu\\lib\\site-packages\\tensorflow\\python\\eager\\function.py\u001b[0m in \u001b[0;36m_define_function_with_shape_relaxation\u001b[1;34m(self, args, kwargs)\u001b[0m\n\u001b[0;32m   3139\u001b[0m           expand_composites=True)\n\u001b[0;32m   3140\u001b[0m \u001b[1;33m\u001b[0m\u001b[0m\n\u001b[1;32m-> 3141\u001b[1;33m     graph_function = self._create_graph_function(\n\u001b[0m\u001b[0;32m   3142\u001b[0m         args, kwargs, override_flat_arg_shapes=relaxed_arg_shapes)\n\u001b[0;32m   3143\u001b[0m     \u001b[0mself\u001b[0m\u001b[1;33m.\u001b[0m\u001b[0m_function_cache\u001b[0m\u001b[1;33m.\u001b[0m\u001b[0marg_relaxed\u001b[0m\u001b[1;33m[\u001b[0m\u001b[0mrank_only_cache_key\u001b[0m\u001b[1;33m]\u001b[0m \u001b[1;33m=\u001b[0m \u001b[0mgraph_function\u001b[0m\u001b[1;33m\u001b[0m\u001b[1;33m\u001b[0m\u001b[0m\n",
      "\u001b[1;32m~\\anaconda3\\envs\\tf-gpu\\lib\\site-packages\\tensorflow\\python\\eager\\function.py\u001b[0m in \u001b[0;36m_create_graph_function\u001b[1;34m(self, args, kwargs, override_flat_arg_shapes)\u001b[0m\n\u001b[0;32m   3063\u001b[0m     \u001b[0marg_names\u001b[0m \u001b[1;33m=\u001b[0m \u001b[0mbase_arg_names\u001b[0m \u001b[1;33m+\u001b[0m \u001b[0mmissing_arg_names\u001b[0m\u001b[1;33m\u001b[0m\u001b[1;33m\u001b[0m\u001b[0m\n\u001b[0;32m   3064\u001b[0m     graph_function = ConcreteFunction(\n\u001b[1;32m-> 3065\u001b[1;33m         func_graph_module.func_graph_from_py_func(\n\u001b[0m\u001b[0;32m   3066\u001b[0m             \u001b[0mself\u001b[0m\u001b[1;33m.\u001b[0m\u001b[0m_name\u001b[0m\u001b[1;33m,\u001b[0m\u001b[1;33m\u001b[0m\u001b[1;33m\u001b[0m\u001b[0m\n\u001b[0;32m   3067\u001b[0m             \u001b[0mself\u001b[0m\u001b[1;33m.\u001b[0m\u001b[0m_python_function\u001b[0m\u001b[1;33m,\u001b[0m\u001b[1;33m\u001b[0m\u001b[1;33m\u001b[0m\u001b[0m\n",
      "\u001b[1;32m~\\anaconda3\\envs\\tf-gpu\\lib\\site-packages\\tensorflow\\python\\framework\\func_graph.py\u001b[0m in \u001b[0;36mfunc_graph_from_py_func\u001b[1;34m(name, python_func, args, kwargs, signature, func_graph, autograph, autograph_options, add_control_dependencies, arg_names, op_return_value, collections, capture_by_value, override_flat_arg_shapes)\u001b[0m\n\u001b[0;32m    984\u001b[0m         \u001b[0m_\u001b[0m\u001b[1;33m,\u001b[0m \u001b[0moriginal_func\u001b[0m \u001b[1;33m=\u001b[0m \u001b[0mtf_decorator\u001b[0m\u001b[1;33m.\u001b[0m\u001b[0munwrap\u001b[0m\u001b[1;33m(\u001b[0m\u001b[0mpython_func\u001b[0m\u001b[1;33m)\u001b[0m\u001b[1;33m\u001b[0m\u001b[1;33m\u001b[0m\u001b[0m\n\u001b[0;32m    985\u001b[0m \u001b[1;33m\u001b[0m\u001b[0m\n\u001b[1;32m--> 986\u001b[1;33m       \u001b[0mfunc_outputs\u001b[0m \u001b[1;33m=\u001b[0m \u001b[0mpython_func\u001b[0m\u001b[1;33m(\u001b[0m\u001b[1;33m*\u001b[0m\u001b[0mfunc_args\u001b[0m\u001b[1;33m,\u001b[0m \u001b[1;33m**\u001b[0m\u001b[0mfunc_kwargs\u001b[0m\u001b[1;33m)\u001b[0m\u001b[1;33m\u001b[0m\u001b[1;33m\u001b[0m\u001b[0m\n\u001b[0m\u001b[0;32m    987\u001b[0m \u001b[1;33m\u001b[0m\u001b[0m\n\u001b[0;32m    988\u001b[0m       \u001b[1;31m# invariant: `func_outputs` contains only Tensors, CompositeTensors,\u001b[0m\u001b[1;33m\u001b[0m\u001b[1;33m\u001b[0m\u001b[1;33m\u001b[0m\u001b[0m\n",
      "\u001b[1;32m~\\anaconda3\\envs\\tf-gpu\\lib\\site-packages\\tensorflow\\python\\eager\\def_function.py\u001b[0m in \u001b[0;36mwrapped_fn\u001b[1;34m(*args, **kwds)\u001b[0m\n\u001b[0;32m    598\u001b[0m         \u001b[1;31m# __wrapped__ allows AutoGraph to swap in a converted function. We give\u001b[0m\u001b[1;33m\u001b[0m\u001b[1;33m\u001b[0m\u001b[1;33m\u001b[0m\u001b[0m\n\u001b[0;32m    599\u001b[0m         \u001b[1;31m# the function a weak reference to itself to avoid a reference cycle.\u001b[0m\u001b[1;33m\u001b[0m\u001b[1;33m\u001b[0m\u001b[1;33m\u001b[0m\u001b[0m\n\u001b[1;32m--> 600\u001b[1;33m         \u001b[1;32mreturn\u001b[0m \u001b[0mweak_wrapped_fn\u001b[0m\u001b[1;33m(\u001b[0m\u001b[1;33m)\u001b[0m\u001b[1;33m.\u001b[0m\u001b[0m__wrapped__\u001b[0m\u001b[1;33m(\u001b[0m\u001b[1;33m*\u001b[0m\u001b[0margs\u001b[0m\u001b[1;33m,\u001b[0m \u001b[1;33m**\u001b[0m\u001b[0mkwds\u001b[0m\u001b[1;33m)\u001b[0m\u001b[1;33m\u001b[0m\u001b[1;33m\u001b[0m\u001b[0m\n\u001b[0m\u001b[0;32m    601\u001b[0m     \u001b[0mweak_wrapped_fn\u001b[0m \u001b[1;33m=\u001b[0m \u001b[0mweakref\u001b[0m\u001b[1;33m.\u001b[0m\u001b[0mref\u001b[0m\u001b[1;33m(\u001b[0m\u001b[0mwrapped_fn\u001b[0m\u001b[1;33m)\u001b[0m\u001b[1;33m\u001b[0m\u001b[1;33m\u001b[0m\u001b[0m\n\u001b[0;32m    602\u001b[0m \u001b[1;33m\u001b[0m\u001b[0m\n",
      "\u001b[1;32m~\\anaconda3\\envs\\tf-gpu\\lib\\site-packages\\tensorflow\\python\\framework\\func_graph.py\u001b[0m in \u001b[0;36mwrapper\u001b[1;34m(*args, **kwargs)\u001b[0m\n\u001b[0;32m    971\u001b[0m           \u001b[1;32mexcept\u001b[0m \u001b[0mException\u001b[0m \u001b[1;32mas\u001b[0m \u001b[0me\u001b[0m\u001b[1;33m:\u001b[0m  \u001b[1;31m# pylint:disable=broad-except\u001b[0m\u001b[1;33m\u001b[0m\u001b[1;33m\u001b[0m\u001b[0m\n\u001b[0;32m    972\u001b[0m             \u001b[1;32mif\u001b[0m \u001b[0mhasattr\u001b[0m\u001b[1;33m(\u001b[0m\u001b[0me\u001b[0m\u001b[1;33m,\u001b[0m \u001b[1;34m\"ag_error_metadata\"\u001b[0m\u001b[1;33m)\u001b[0m\u001b[1;33m:\u001b[0m\u001b[1;33m\u001b[0m\u001b[1;33m\u001b[0m\u001b[0m\n\u001b[1;32m--> 973\u001b[1;33m               \u001b[1;32mraise\u001b[0m \u001b[0me\u001b[0m\u001b[1;33m.\u001b[0m\u001b[0mag_error_metadata\u001b[0m\u001b[1;33m.\u001b[0m\u001b[0mto_exception\u001b[0m\u001b[1;33m(\u001b[0m\u001b[0me\u001b[0m\u001b[1;33m)\u001b[0m\u001b[1;33m\u001b[0m\u001b[1;33m\u001b[0m\u001b[0m\n\u001b[0m\u001b[0;32m    974\u001b[0m             \u001b[1;32melse\u001b[0m\u001b[1;33m:\u001b[0m\u001b[1;33m\u001b[0m\u001b[1;33m\u001b[0m\u001b[0m\n\u001b[0;32m    975\u001b[0m               \u001b[1;32mraise\u001b[0m\u001b[1;33m\u001b[0m\u001b[1;33m\u001b[0m\u001b[0m\n",
      "\u001b[1;31mValueError\u001b[0m: in user code:\n\n    C:\\Users\\Srividya\\anaconda3\\envs\\tf-gpu\\lib\\site-packages\\tensorflow\\python\\keras\\engine\\training.py:1462 predict_function  *\n        return step_function(self, iterator)\n    C:\\Users\\Srividya\\anaconda3\\envs\\tf-gpu\\lib\\site-packages\\tensorflow\\python\\keras\\engine\\training.py:1452 step_function  **\n        outputs = model.distribute_strategy.run(run_step, args=(data,))\n    C:\\Users\\Srividya\\anaconda3\\envs\\tf-gpu\\lib\\site-packages\\tensorflow\\python\\distribute\\distribute_lib.py:1211 run\n        return self._extended.call_for_each_replica(fn, args=args, kwargs=kwargs)\n    C:\\Users\\Srividya\\anaconda3\\envs\\tf-gpu\\lib\\site-packages\\tensorflow\\python\\distribute\\distribute_lib.py:2585 call_for_each_replica\n        return self._call_for_each_replica(fn, args, kwargs)\n    C:\\Users\\Srividya\\anaconda3\\envs\\tf-gpu\\lib\\site-packages\\tensorflow\\python\\distribute\\distribute_lib.py:2945 _call_for_each_replica\n        return fn(*args, **kwargs)\n    C:\\Users\\Srividya\\anaconda3\\envs\\tf-gpu\\lib\\site-packages\\tensorflow\\python\\keras\\engine\\training.py:1445 run_step  **\n        outputs = model.predict_step(data)\n    C:\\Users\\Srividya\\anaconda3\\envs\\tf-gpu\\lib\\site-packages\\tensorflow\\python\\keras\\engine\\training.py:1418 predict_step\n        return self(x, training=False)\n    C:\\Users\\Srividya\\anaconda3\\envs\\tf-gpu\\lib\\site-packages\\tensorflow\\python\\keras\\engine\\base_layer.py:985 __call__\n        outputs = call_fn(inputs, *args, **kwargs)\n    C:\\Users\\Srividya\\anaconda3\\envs\\tf-gpu\\lib\\site-packages\\tensorflow\\python\\keras\\engine\\functional.py:385 call\n        return self._run_internal_graph(\n    C:\\Users\\Srividya\\anaconda3\\envs\\tf-gpu\\lib\\site-packages\\tensorflow\\python\\keras\\engine\\functional.py:508 _run_internal_graph\n        outputs = node.layer(*args, **kwargs)\n    C:\\Users\\Srividya\\anaconda3\\envs\\tf-gpu\\lib\\site-packages\\tensorflow\\python\\keras\\engine\\base_layer.py:975 __call__\n        input_spec.assert_input_compatibility(self.input_spec, inputs,\n    C:\\Users\\Srividya\\anaconda3\\envs\\tf-gpu\\lib\\site-packages\\tensorflow\\python\\keras\\engine\\input_spec.py:212 assert_input_compatibility\n        raise ValueError(\n\n    ValueError: Input 0 of layer fc1 is incompatible with the layer: expected axis -1 of input shape to have value 1024 but received input with shape [None, 5121024]\n"
     ]
    }
   ],
   "source": [
    "ps = re_model.predict(X_tests)  #pred = keras.utils.np_utils.probas_to_classes(model.predict(X_test))\n",
    "pred = np.argmax(ps,axis=2)\n",
    "#print(\"actual=%s, Predicted=%s\" % (Y_tests[100,:25], pred[100,:25]))"
   ]
  },
  {
   "cell_type": "code",
   "execution_count": 29,
   "id": "220381e2",
   "metadata": {},
   "outputs": [],
   "source": [
    "X_testing = X_tests.reshape(a*24400,3)\n",
    "Y_testing = Y_tests.reshape(a*24400,1)\n",
    "predicting = pred.reshape(a*24400,1)"
   ]
  },
  {
   "cell_type": "code",
   "execution_count": 2,
   "id": "f2c2e489",
   "metadata": {},
   "outputs": [],
   "source": [
    "g_classes = [\"bowl\", \"cap\", \"cereal_box\", \"coffee_mug\", \"coffee_table\", \"office_chair\", \"soda_can\", \"sofa\", \"table\", \"background\" ]\n",
    "g_class2label = {cls: i+1 for i,cls in enumerate(g_classes)}\n",
    "g_class2color = {'bowl':\t[0,255/255,0],#green\n",
    "                 'cap':\t[0,0,1.0],        #blue\n",
    "                 'cereal_box':\t[0,1.0,1.0],#cyan/sky blue\n",
    "                 'coffee_mug':        [1.0,1.0,0],#yellow\n",
    "                 'coffee_table':      [1.0,0,1.0],#magenta/pink\n",
    "                 'office_chair':      [100/255,100/255,255/255],#\n",
    "                 'soda_can':        [200/255,200/255,100/255],\n",
    "                 'sofa':       [170/255,120/255,200/255],\n",
    "                 'table':       [255/255,0,0],\n",
    "                 'background':        [200/255,100/255,100/255]}\n",
    "#                  'bookcase':    [10,200,100],\n",
    "#                  'board':       [200,200,200],\n",
    "#                  'clutter':     [50,50,50]} \n",
    "g_label2color = {g_classes.index(cls)+1: g_class2color[cls] for cls in g_classes}"
   ]
  },
  {
   "cell_type": "code",
   "execution_count": 31,
   "id": "3b203b99",
   "metadata": {},
   "outputs": [
    {
     "name": "stdout",
     "output_type": "stream",
     "text": [
      "(260400, 3)\n"
     ]
    }
   ],
   "source": [
    "predicting = pred.flatten()\n",
    "length = predicting.shape[0]\n",
    "colors = np.empty([length,3])\n",
    "for i in range(length):\n",
    "    #for k in range(3):\n",
    "        lab = predicting[i]\n",
    "        colors[i] = g_label2color[lab]\n",
    "print(colors.shape)"
   ]
  },
  {
   "cell_type": "code",
   "execution_count": 32,
   "id": "be7991a1",
   "metadata": {},
   "outputs": [],
   "source": [
    "ocd = open3d.geometry.PointCloud()\n",
    "ocd.points = open3d.utility.Vector3dVector(X_testing)\n",
    "ocd.colors = open3d.utility.Vector3dVector(colors)\n",
    "open3d.visualization.draw_geometries([ocd])"
   ]
  },
  {
   "cell_type": "code",
   "execution_count": 6,
   "id": "18cce9c5",
   "metadata": {},
   "outputs": [],
   "source": [
    "import tensorflow as tf\n",
    "from tensorflow import keras\n",
    "import open3d\n",
    "import numpy as np\n",
    "\n",
    "pcd01 = open3d.io.read_point_cloud('C:\\\\Users\\\\Srividya\\\\Downloads\\\\rgbd-scenes-v2_pc\\\\rgbd-scenes-v2\\\\pc\\\\03.ply')\n",
    "X_testing = np.asarray(pcd01.points)\n",
    "bst = open(\"C:\\\\Users\\\\Srividya\\\\Downloads\\\\rgbd-scenes-v2_pc\\\\rgbd-scenes-v2\\\\pc\\\\03.label\", \"r\").readlines()\n",
    "listasInt = list(map(int, bst))\n",
    "Y_test = np.array(listasInt)\n",
    "Y_testing = Y_test[1:]\n",
    "\n",
    "length = Y_testing.shape[0]\n",
    "colors = np.empty([length,3])\n",
    "for i in range(length):\n",
    "    #for k in range(3):\n",
    "        lab = Y_testing[i]\n",
    "        colors[i] = g_label2color[lab]\n",
    "\n",
    "ocd = open3d.geometry.PointCloud()\n",
    "ocd.points = open3d.utility.Vector3dVector(X_testing)\n",
    "ocd.colors = open3d.utility.Vector3dVector(colors)\n",
    "open3d.visualization.draw_geometries([ocd])\n"
   ]
  },
  {
   "cell_type": "code",
   "execution_count": null,
   "id": "058b8aa8",
   "metadata": {},
   "outputs": [],
   "source": [
    "import copy\n",
    "X_testing_copy = copy.deepcopy(X_testing)"
   ]
  },
  {
   "cell_type": "code",
   "execution_count": 15,
   "id": "24c0944f",
   "metadata": {},
   "outputs": [],
   "source": [
    "#l,m,n are coordinates of centroid, axis is that axis passing through centroid, \n",
    "#about which object has to be rotated at theta angle\n",
    "\n",
    "import math\n",
    "def getTransMatrix(p,q,r):\n",
    "    a = np.identity(3)\n",
    "    b = np.array([[p], [q], [r] ,[1]])\n",
    "    c = np.concatenate((np.concatenate((a,np.zeros((1,3))),axis = 0), b),axis = 1)\n",
    "    return c\n",
    "def toRadian(a):\n",
    "    return a*math.pi/180\n",
    "def getRotMatrix(axis, degree):\n",
    "    switcher = {\n",
    "      'X': np.array([[ 1,                           0,   0                         ,0],\n",
    "                     [ 0,  math.cos(toRadian(degree)),  -math.sin(toRadian(degree)),0],\n",
    "                     [ 0,  math.sin(toRadian(degree)),   math.cos(toRadian(degree)),0],\n",
    "                    [0,0,0,1]],dtype = float),\n",
    "      'Y': np.array([[ math.cos(toRadian(degree)),  0,  math.sin(toRadian(degree)),0],\n",
    "                     [                          0,  1,  0                         ,0],\n",
    "                     [-math.sin(toRadian(degree)),  0,  math.cos(toRadian(degree)),0],\n",
    "                    [0,0,0,1]],dtype = float),\n",
    "      'Z': np.array([[ math.cos(toRadian(degree)),  -math.sin(toRadian(degree)),  0,0],\n",
    "                     [ math.sin(toRadian(degree)),   math.cos(toRadian(degree)),  0,0],\n",
    "                     [ 0,                            0,                           1,0],\n",
    "                    [0,0,0,1]],dtype = float),\n",
    "    }\n",
    "    return switcher.get(axis)\n",
    "\n",
    "def find_centroid(arr):\n",
    "    c_wise_sum = np.sum(arr,axis = 0, keepdims = True)\n",
    "    l = (c_wise_sum[0,0])/(arr.shape[0] - 1)\n",
    "    m = (c_wise_sum[0,1])/(arr.shape[0] - 1)\n",
    "    n = (c_wise_sum[0,2])/(arr.shape[0] - 1)\n",
    "    return l,m,n\n",
    "def rot_about_centroid(furniture,axis,theta):    \n",
    "    obj_points = np.array([[0,0,0]])\n",
    "    length = Y_testing.shape[0]\n",
    "    k = g_class2label[furniture] \n",
    "    for i in range(length):\n",
    "        if Y_testing[i] == k:\n",
    "            obj_points = np.append(obj_points,np.array([[X_testing[i,0], X_testing[i,1], X_testing[i,2]]]),axis=0)\n",
    "    \n",
    "    l,m,n = find_centroid(obj_points)\n",
    "    a = getRotMatrix(axis, theta)\n",
    "    d = np.matmul(np.matmul(getTransMatrix(-l,-m,-n),getRotMatrix(axis,theta)),getTransMatrix(l,m,n))\n",
    "    for i in range(length):\n",
    "        if Y_testing[i] == k:\n",
    "            e = np.matmul(d,np.array([[X_testing[i,0]],[X_testing[i,1]],[X_testing[i,2]],[1]]))\n",
    "            X_testing_copy[i,0] = e[0,0]\n",
    "            X_testing_copy[i,1] = e[1,0]\n",
    "            X_testing_copy[i,2] = e[2,0]\n",
    "    colors_copy = np.empty([length,3])\n",
    "    for i in range(length):\n",
    "    #for k in range(3):\n",
    "        lab = Y_testing[i]\n",
    "        colors_copy[i] = g_label2color[lab]\n",
    "    bcd = open3d.geometry.PointCloud()\n",
    "    bcd.points = open3d.utility.Vector3dVector(X_testing_copy)\n",
    "    bcd.colors = open3d.utility.Vector3dVector(colors_copy)\n",
    "    open3d.visualization.draw_geometries([bcd])\n",
    "    "
   ]
  },
  {
   "cell_type": "code",
   "execution_count": 13,
   "id": "551ea7b0",
   "metadata": {},
   "outputs": [],
   "source": [
    "\n",
    "rot_about_centroid('coffee_table','X',45)"
   ]
  },
  {
   "cell_type": "code",
   "execution_count": 17,
   "id": "632fb0d7",
   "metadata": {},
   "outputs": [
    {
     "name": "stdout",
     "output_type": "stream",
     "text": [
      "[Open3D WARNING] [ViewControl] SetViewPoint() failed because window height and width are not set.\n",
      "[Open3D WARNING] [ViewControl] SetViewPoint() failed because window height and width are not set.\n"
     ]
    }
   ],
   "source": [
    "rot_about_centroid('coffee_table','Z',45)"
   ]
  },
  {
   "cell_type": "code",
   "execution_count": null,
   "id": "36d8e6cf",
   "metadata": {},
   "outputs": [],
   "source": []
  }
 ],
 "metadata": {
  "kernelspec": {
   "display_name": "Python 3",
   "language": "python",
   "name": "python3"
  },
  "language_info": {
   "codemirror_mode": {
    "name": "ipython",
    "version": 3
   },
   "file_extension": ".py",
   "mimetype": "text/x-python",
   "name": "python",
   "nbconvert_exporter": "python",
   "pygments_lexer": "ipython3",
   "version": "3.8.10"
  }
 },
 "nbformat": 4,
 "nbformat_minor": 5
}
