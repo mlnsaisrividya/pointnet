{
 "cells": [
  {
   "cell_type": "code",
   "execution_count": null,
   "id": "203dd55f",
   "metadata": {},
   "outputs": [],
   "source": [
    "import pandas as pd\n",
    "import numpy as np\n",
    "import open3d \n",
    "from matplotlib import pyplot as plt\n",
    "\n"
   ]
  },
  {
   "cell_type": "markdown",
   "id": "eeac9840",
   "metadata": {},
   "source": [
    "preparing training dataset from four scenes"
   ]
  },
  {
   "cell_type": "code",
   "execution_count": null,
   "id": "97ae2c36",
   "metadata": {},
   "outputs": [],
   "source": [
    "pcd01 = open3d.io.read_point_cloud('C:\\\\Users\\\\Srividya\\\\Downloads\\\\rgbd-scenes-v2_pc\\\\rgbd-scenes-v2\\\\pc\\\\01.ply')\n",
    "pcd05 = open3d.io.read_point_cloud('C:\\\\Users\\\\Srividya\\\\Downloads\\\\rgbd-scenes-v2_pc\\\\rgbd-scenes-v2\\\\pc\\\\05.ply')\n",
    "pcd07 = open3d.io.read_point_cloud('C:\\\\Users\\\\Srividya\\\\Downloads\\\\rgbd-scenes-v2_pc\\\\rgbd-scenes-v2\\\\pc\\\\07.ply')\n",
    "pcd09 = open3d.io.read_point_cloud('C:\\\\Users\\\\Srividya\\\\Downloads\\\\rgbd-scenes-v2_pc\\\\rgbd-scenes-v2\\\\pc\\\\09.ply')\n",
    "points01 = np.asarray(pcd01.points)\n",
    "points05 = np.asarray(pcd05.points)\n",
    "points07 = np.asarray(pcd07.points)\n",
    "points09 = np.asarray(pcd09.points)\n",
    "points = np.append(points01,points05,axis = 0)\n",
    "points = np.append(points,points07,axis = 0)\n",
    "points = np.append(points,points09,axis = 0)\n",
    "bst = open(\"C:\\\\Users\\\\Srividya\\\\Downloads\\\\rgbd-scenes-v2_pc\\\\rgbd-scenes-v2\\\\pc\\\\01.label\", \"r\").readlines()\n",
    "listasInt = list(map(int, bst))\n",
    "Y_test = np.array(listasInt)\n",
    "bst = open(\"C:\\\\Users\\\\Srividya\\\\Downloads\\\\rgbd-scenes-v2_pc\\\\rgbd-scenes-v2\\\\pc\\\\05.label\", \"r\").readlines()\n",
    "listasInt = list(map(int, bst))\n",
    "Y_test = np.array(listasInt)\n",
    "print(Y_test.shape)\n",
    "print(Y_test.shape)"
   ]
  },
  {
   "cell_type": "markdown",
   "id": "8d9f8240",
   "metadata": {},
   "source": [
    "preparing test data"
   ]
  },
  {
   "cell_type": "code",
   "execution_count": null,
   "id": "b873bbd2",
   "metadata": {},
   "outputs": [],
   "source": [
    "pcd14 = open3d.io.read_point_cloud('C:\\\\Users\\\\Srividya\\\\Downloads\\\\rgbd-scenes-v2_pc\\\\rgbd-scenes-v2\\\\pc\\\\14.ply')\n",
    "X_test = np.asarray(pcd14.points)\n",
    "print(X_test.shape)\n",
    "bst = open(\"C:\\\\Users\\\\Srividya\\\\Downloads\\\\rgbd-scenes-v2_pc\\\\rgbd-scenes-v2\\\\pc\\\\14.label\", \"r\").readlines()\n",
    "listasInt = list(map(int, bst))\n",
    "Y_test = np.array(listasInt)\n",
    "print(Y_test.shape)"
   ]
  }
 ],
 "metadata": {
  "kernelspec": {
   "display_name": "Python 3",
   "language": "python",
   "name": "python3"
  },
  "language_info": {
   "codemirror_mode": {
    "name": "ipython",
    "version": 3
   },
   "file_extension": ".py",
   "mimetype": "text/x-python",
   "name": "python",
   "nbconvert_exporter": "python",
   "pygments_lexer": "ipython3",
   "version": "3.8.10"
  }
 },
 "nbformat": 4,
 "nbformat_minor": 5
}
